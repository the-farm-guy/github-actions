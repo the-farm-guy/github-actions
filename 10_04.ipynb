{
 "cells": [
  {
   "cell_type": "code",
   "execution_count": null,
   "id": "65d7813d",
   "metadata": {},
   "outputs": [],
   "source": [
    "from pydantic import BaseModel, EmailStr, Field, model_validator, HttpUrl\n",
    "from typing import Union, Optional, Dict, List\n",
    "from datetime import datetime, date\n",
    "from uuid import UUID, uuid4\n",
    "from enum import Enum\n",
    "from pydantic_settings import BaseSettings, SettingsConfigDict"
   ]
  },
  {
   "cell_type": "code",
   "execution_count": null,
   "id": "c2d3b472",
   "metadata": {},
   "outputs": [],
   "source": [
    "class FirstClass(BaseModel):\n",
    "    first_name : str\n",
    "    last_name : str\n",
    "    \n",
    "first_object = FirstClass(first_name = 'boiled', last_name = 'potato')\n",
    "print(first_object)"
   ]
  },
  {
   "cell_type": "code",
   "execution_count": null,
   "id": "dceb383a",
   "metadata": {},
   "outputs": [],
   "source": [
    "class SecondClass(BaseModel):\n",
    "    first_name : str\n",
    "    middle_name : Union[str, None] = None \n",
    "    title : Optional[str]\n",
    "    last_name : str"
   ]
  },
  {
   "cell_type": "code",
   "execution_count": null,
   "id": "9f0c2060",
   "metadata": {},
   "outputs": [],
   "source": [
    "second_object = SecondClass(first_name = 'boiled', title = '', last_name = 'potato')\n",
    "print(second_object)"
   ]
  },
  {
   "cell_type": "code",
   "execution_count": null,
   "id": "00abea06",
   "metadata": {},
   "outputs": [],
   "source": [
    "class ThirdClass(BaseModel):\n",
    "    names : Dict[str , str]\n",
    "    skills : List[str]\n",
    "    holidays : List[Union[str, datetime]]"
   ]
  },
  {
   "cell_type": "code",
   "execution_count": null,
   "id": "c99a373a",
   "metadata": {},
   "outputs": [],
   "source": [
    "third_object = ThirdClass(\n",
    "    names = {'boiled' : 'potato', 'hello' : 'world', 'thefarm' : 'guy'},\n",
    "    skills = ['cricket', 'football', 'farming'],\n",
    "    holidays = [datetime.now(), '10-04-2025', datetime(2025, 4, 10, 14, 30, 0)]\n",
    ")\n",
    "print(third_object) "
   ]
  },
  {
   "cell_type": "code",
   "execution_count": null,
   "id": "123b5008",
   "metadata": {},
   "outputs": [],
   "source": [
    "class Department(Enum):\n",
    "    HR = 'HR'\n",
    "    SALES = 'SALES'\n",
    "    IT = 'IT'\n",
    "    ENGINEERING = 'ENGINEERING'\n",
    "    \n",
    "class FourthClass(BaseModel):\n",
    "    employee_id : UUID = uuid4()\n",
    "    name : str\n",
    "    email : EmailStr\n",
    "    date_of_birth : date\n",
    "    salary : float\n",
    "    department : Department\n",
    "    elected_benefits : bool "
   ]
  },
  {
   "cell_type": "code",
   "execution_count": null,
   "id": "9f883186",
   "metadata": {},
   "outputs": [],
   "source": [
    "fourth_object = FourthClass(\n",
    "    # employee_id is default uuid4 so we will skip that because it will be added automatically.\n",
    "    name = 'boiled potato',\n",
    "    email = 'boiled@potato.com',\n",
    "    date_of_birth = '2004-09-14',\n",
    "    salary = 1000,\n",
    "    department = 'SALES',\n",
    "    elected_benefits = False\n",
    ")\n",
    "\n",
    "print(fourth_object)\n",
    "print(fourth_object.department)"
   ]
  },
  {
   "cell_type": "code",
   "execution_count": null,
   "id": "79c6685f",
   "metadata": {},
   "outputs": [],
   "source": [
    "# validate new data according to already built class.\n",
    "new_employee_json = \"\"\"\n",
    "{\n",
    "    \"employee_id\" :\"d2e7b773-926b-49df-939a-5e98cbb9c9eb\",\n",
    "    \"name\" :\"hello world\",\n",
    "    \"email\" :\"eslogrenta@example.com\",\n",
    "    \"date_of_birth\" :\"1990-01-02\",\n",
    "    \"salary\" :125000.0,\n",
    "    \"department\" :\"HR\",\n",
    "    \"elected_benefits\" :false\n",
    "}\n",
    "\"\"\"\n",
    "\n",
    "new_employee = FourthClass.model_validate_json(new_employee_json)\n",
    "print(new_employee)"
   ]
  },
  {
   "cell_type": "code",
   "execution_count": null,
   "id": "bbc0931d",
   "metadata": {},
   "outputs": [],
   "source": [
    "# It returns date differently.\n",
    "new_employee.model_dump_json()"
   ]
  },
  {
   "cell_type": "code",
   "execution_count": null,
   "id": "4cf3a522",
   "metadata": {},
   "outputs": [],
   "source": [
    "fourth_object.model_dump()"
   ]
  },
  {
   "cell_type": "code",
   "execution_count": null,
   "id": "12a6f25d",
   "metadata": {},
   "outputs": [],
   "source": [
    "fourth_object.model_json_schema()"
   ]
  },
  {
   "cell_type": "code",
   "execution_count": null,
   "id": "7437cb5a",
   "metadata": {},
   "outputs": [],
   "source": [
    "class FifthClass(BaseModel):\n",
    "    employee_id : UUID = Field(default_factory = uuid4, frozen = True)\n",
    "    name : str = Field(min_length = 3, frozen = True)\n",
    "    email : EmailStr = Field(pattern = r\".+@example\\.com$\")\n",
    "    date_of_birth : date = Field(alias = \"birth_date\", repr = False, frozen = True)\n",
    "    salary : float = Field(alias = \"compensation\", gt = 0, repr = False)\n",
    "    department : Department\n",
    "    elected_benefits : bool "
   ]
  },
  {
   "cell_type": "code",
   "execution_count": null,
   "id": "cd89ddc7",
   "metadata": {},
   "outputs": [],
   "source": [
    "fifth_object = FifthClass(\n",
    "    # employee_id is default uuid4 so we will skip that because it will be added automatically.\n",
    "    name = 'boiled potato',\n",
    "    email = 'boiled@example.com',  \n",
    "    birth_date = '2004-09-14',     \n",
    "    compensation = 1000,          \n",
    "    department = 'SALES',\n",
    "    elected_benefits = False\n",
    ")\n",
    "\n",
    "fifth_object.model_dump()"
   ]
  },
  {
   "cell_type": "code",
   "execution_count": null,
   "id": "d9a89aff",
   "metadata": {},
   "outputs": [],
   "source": [
    "class SixthClass(BaseModel):\n",
    "    employee_id : UUID = uuid4()\n",
    "    name : str\n",
    "    email : EmailStr\n",
    "    date_of_birth : date\n",
    "    salary : float\n",
    "    department : Department\n",
    "    elected_benefits : bool\n",
    "    \n",
    "    @model_validator(mode = \"before\")\n",
    "    def lower_name(cls, data):\n",
    "        data['name'] = data['name'].lower()\n",
    "        return data\n",
    "    \n",
    "    @model_validator(mode = \"after\")\n",
    "    def check_age(cls, data):\n",
    "        date_of_birth = data.date_of_birth\n",
    "        \n",
    "        if date_of_birth:\n",
    "            today = date.today()\n",
    "            age = today.year - date_of_birth.year - ((today.month, today.day) < (date_of_birth.month, date_of_birth.day))\n",
    "            \n",
    "            if age < 18:\n",
    "                raise ValueError(f'age must be equal or greater than 18, but got {age}')\n",
    "            \n",
    "        return data\n"
   ]
  },
  {
   "cell_type": "code",
   "execution_count": null,
   "id": "06220993",
   "metadata": {},
   "outputs": [],
   "source": [
    "fifth_object = SixthClass(\n",
    "    # employee_id is default uuid4 so we will skip that because it will be added automatically.\n",
    "    name = 'BOILED POTATO',\n",
    "    email = 'boiled@potato.com',  \n",
    "    date_of_birth = '2004-09-14',     \n",
    "    salary = 1000,          \n",
    "    department = 'SALES',\n",
    "    elected_benefits = False\n",
    ")\n",
    "fifth_object.model_dump()"
   ]
  },
  {
   "cell_type": "code",
   "execution_count": null,
   "id": "c2c36a58",
   "metadata": {},
   "outputs": [],
   "source": [
    "class Settings(BaseSettings):\n",
    "    database_host : HttpUrl\n",
    "    database_user : str = Field(min_length = 3)\n",
    "    database_password : str = Field(min_length = 7)\n",
    "    api_key : str = Field(min_length = 5)\n",
    "    \n",
    "    model_config = SettingsConfigDict(\n",
    "        env_file = '.env',\n",
    "        case_sensitive = True,\n",
    "        extra = 'allow'\n",
    "    )"
   ]
  },
  {
   "cell_type": "code",
   "execution_count": null,
   "id": "d57e24f3",
   "metadata": {},
   "outputs": [],
   "source": [
    "settings = Settings()\n",
    "settings.model_dump()"
   ]
  },
  {
   "cell_type": "code",
   "execution_count": null,
   "id": "cdf44a45",
   "metadata": {},
   "outputs": [],
   "source": []
  }
 ],
 "metadata": {
  "kernelspec": {
   "display_name": "pydantic",
   "language": "python",
   "name": "python3"
  },
  "language_info": {
   "codemirror_mode": {
    "name": "ipython",
    "version": 3
   },
   "file_extension": ".py",
   "mimetype": "text/x-python",
   "name": "python",
   "nbconvert_exporter": "python",
   "pygments_lexer": "ipython3",
   "version": "3.13.2"
  }
 },
 "nbformat": 4,
 "nbformat_minor": 5
}
