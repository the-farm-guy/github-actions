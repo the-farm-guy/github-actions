{
 "cells": [
  {
   "cell_type": "code",
   "execution_count": 36,
   "id": "9cb89d10",
   "metadata": {},
   "outputs": [],
   "source": [
    "import getpass\n",
    "import smtplib\n",
    "from email.message import EmailMessage"
   ]
  },
  {
   "cell_type": "code",
   "execution_count": 37,
   "id": "6f61d24d",
   "metadata": {},
   "outputs": [],
   "source": [
    "HOST = \"smtp.gmail.com\"\n",
    "PORT = 465"
   ]
  },
  {
   "cell_type": "code",
   "execution_count": null,
   "id": "e1242c48",
   "metadata": {},
   "outputs": [],
   "source": [
    "username = \"sender_mail@gmail.com\"\n",
    "password = getpass.getpass(\"Provide Gmail Password : \")"
   ]
  },
  {
   "cell_type": "code",
   "execution_count": null,
   "id": "4720e26e",
   "metadata": {},
   "outputs": [],
   "source": [
    "sender = username\n",
    "\n",
    "To = [\"sender_mail@gmail.com\"]\n",
    "CC = [\"reciever_mail@gmail.com\"]\n",
    "subject = \"this is subject\"\n",
    "body = \"\\n this is a body \\n Thanks\"\n",
    "\n",
    "reciever = To + CC\n",
    "\n",
    "message = EmailMessage()\n",
    "message[\"from\"] = sender\n",
    "message[\"to\"] = ''.join(To)\n",
    "message[\"CC\"] = ''.join(CC)\n",
    "message[\"subject\"] = subject\n",
    "message.set_content(body)"
   ]
  },
  {
   "cell_type": "code",
   "execution_count": null,
   "id": "21b6c011",
   "metadata": {},
   "outputs": [],
   "source": [
    "# server = smtplib.SMTP_SSL(HOST, PORT)\n",
    "# server.login(username, password)\n",
    "\n",
    "# sender_email = \"sender_mail@gmail.com\"\n",
    "# reciever_email = [\"reciever_mail@gmail.com\", \"reciever_mail@gmail.com\"]\n",
    "\n",
    "# server.sendmail(\n",
    "#     from_addr = sender_email,\n",
    "#     to_addrs = reciever_email,\n",
    "#     msg = f\"hello {reciever_email}\",\n",
    "# )\n"
   ]
  },
  {
   "cell_type": "code",
   "execution_count": null,
   "id": "e46ed219",
   "metadata": {},
   "outputs": [],
   "source": [
    "with (smtplib.SMTP_SSL(HOST, PORT)) as server:\n",
    "    server.login(username, password)\n",
    "    server.send_message(message, sender, reciever)\n",
    "    print('message sent')"
   ]
  },
  {
   "cell_type": "code",
   "execution_count": null,
   "id": "22747fb6",
   "metadata": {},
   "outputs": [],
   "source": [
    "server.quit()"
   ]
  }
 ],
 "metadata": {
  "kernelspec": {
   "display_name": "pydantic",
   "language": "python",
   "name": "python3"
  },
  "language_info": {
   "codemirror_mode": {
    "name": "ipython",
    "version": 3
   },
   "file_extension": ".py",
   "mimetype": "text/x-python",
   "name": "python",
   "nbconvert_exporter": "python",
   "pygments_lexer": "ipython3",
   "version": "3.13.2"
  }
 },
 "nbformat": 4,
 "nbformat_minor": 5
}
